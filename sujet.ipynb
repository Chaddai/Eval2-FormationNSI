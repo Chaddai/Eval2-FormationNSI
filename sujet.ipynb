{
 "cells": [
  {
   "cell_type": "markdown",
   "metadata": {},
   "source": [
    "# Une caisse automatique pour NSIThlon \n",
    "\n",
    "On veut réaliser une caisse automatique pour un magasin suivant [l'exemple](https://www.companeo.com/portiques-de-securite/actualites/etiquettes-rfid-antivol-:-l-exemple-de-decathlon) de certains de nos concurrents. \n",
    "\n",
    "Pour sécuriser et reconnaître automatiquement les articles, chaque article est équipé d’un tag RFID qui transmet par radio un identifiant unique à un récepteur proche. \n",
    "\n",
    "On part de ce prototype de ticket que l'on souhaiterait reconstruire automatiquement :\n",
    "\n",
    "![ticket](ticket_prototype.png)\n",
    "\n",
    "## Partie A : Infrastructure\n",
    "\n",
    "1. Ce ticket est produit par une caisse automatique qui lit juste les badges RFID de tous les articles dans un panier. Quand deux articles portent le même nom quelle partie de l’identifiant RFID est la même ?\n",
    "\n",
    "2. Chaque produit est caractérisé par son nom, prix et son code produit (6 chiffres) \n",
    "\n",
    "  <ol style=\"list-style-type:lower-alpha;\">\n",
    "  <li>Choisir le type de donnée approprié pour :\n",
    "    <ul>\n",
    "        <li>Le nom\n",
    "        <li>Le prix\n",
    "        <li>Le code produit\n",
    "    </ul>\n",
    "    <li>Quelle structure de données utiliser pour représenter un produit ?\n",
    "    </ol>\n",
    "\n",
    "3. On vous donne un exemple de liste de produits, copier-coller les informations et formatez-les dans votre script Python.\n",
    "\n",
    "  PANT SH100 000255 30.00 \n",
    "\n",
    "  CHAUS RS500 BLA 428228 4.50  \n",
    "\n",
    "  PNEU VTT 26X2 768489 10.00  \n",
    "\n",
    "  BAS 100 NOIR  000179 5.00"
   ]
  },
  {
   "cell_type": "code",
   "execution_count": null,
   "metadata": {},
   "outputs": [],
   "source": [
    "exemple_produits = ..."
   ]
  },
  {
   "cell_type": "markdown",
   "metadata": {},
   "source": [
    "4. La caisse a besoin du prix et du nom de chaque article. Quelle est la structure de données appropriée pour retrouver immédiatement un produit par son code produit ?\n",
    "\n",
    "5. Construisez cette structure de donnée appelée `produits` à partir des données du (3). Vérifiez que vous retrouvez le produit correspondant à l’identifiant RFID `\"0001797890\"` en consultant votre structure de données."
   ]
  },
  {
   "cell_type": "code",
   "execution_count": null,
   "metadata": {},
   "outputs": [],
   "source": [
    "..."
   ]
  },
  {
   "cell_type": "markdown",
   "metadata": {},
   "source": [
    "## Partie B : Production du ticket \n",
    "\n",
    "6. Ecrire une fonction `rfid_vers_code` qui prend l’identifiant RFID d’un article en paramètre `RFID` et en extrait le code produit telle que :  \n",
    "\n",
    "```python\n",
    ">>> rfid_vers_code('1234567890')     \n",
    "'123456'\n",
    "```"
   ]
  },
  {
   "cell_type": "code",
   "execution_count": null,
   "metadata": {},
   "outputs": [],
   "source": [
    "def rfid_vers_code(RFID) :\n",
    "    \"\"\"\n",
    "    documentation\n",
    "    \"\"\"\n",
    "    ..."
   ]
  },
  {
   "cell_type": "markdown",
   "metadata": {},
   "source": [
    "7. Ecrire une fonction `achats` qui prend en paramètre un `panier` (une liste de RFID) et votre collection de produits `produits` et vous renvoie une liste des produits achetés telle que : \n",
    "\n",
    "```python\n",
    ">>> achats(['4282281234', '0002554224'], produits)    \n",
    "[('CHAUS RS500 BLA', 4.5), ('PANT SH100', 30.0)] \n",
    "```"
   ]
  },
  {
   "cell_type": "code",
   "execution_count": null,
   "metadata": {},
   "outputs": [],
   "source": [
    "def achats(panier, produits):\n",
    "    \"\"\"\n",
    "    documentation\n",
    "    \"\"\"\n",
    "    ..."
   ]
  },
  {
   "cell_type": "markdown",
   "metadata": {},
   "source": [
    "8. Ecrire une fonction `total` qui renvoie le prix total des achats quand on lui passe une liste de produits achetés `liste_achats` en paramètre telle que :\n",
    "\n",
    "```python\n",
    ">>> total([('CHAUS RS500 BLA', 4.5), ('PANT SH100', 30.0)]) \n",
    "34.5\n",
    "```"
   ]
  },
  {
   "cell_type": "code",
   "execution_count": null,
   "metadata": {},
   "outputs": [],
   "source": [
    "def ticket(liste_achats):\n",
    "    \"\"\"\n",
    "    documentation\n",
    "    \"\"\"\n",
    "    ..."
   ]
  },
  {
   "cell_type": "markdown",
   "metadata": {},
   "source": [
    "## Pour aller plus loin : \n",
    "\n",
    "9. Ecrire une fonction `ticket` qui construit une chaîne de caractère représentant le ticket de caisse avec ou sans les identifiants RFID. Un exemple de résultat correct serait : \n",
    "\n",
    "```python\n",
    ">>> print(ticket(['4282281234', '0002554224'], produits))\n",
    "```\n",
    "```\n",
    "CHAUS RS500 BLA\t\t4.5 \n",
    "RFID : 4282281234 \n",
    "PANT SH100\t\t30.0 \n",
    "RFID : 0002554224 \n",
    "--- \n",
    "Total : 34.5 \n",
    "```"
   ]
  },
  {
   "cell_type": "code",
   "execution_count": null,
   "metadata": {},
   "outputs": [],
   "source": [
    "def ticket(panier, produits):\n",
    "    \"\"\"\n",
    "    documentation\n",
    "    \"\"\"\n",
    "    ..."
   ]
  },
  {
   "cell_type": "markdown",
   "metadata": {},
   "source": [
    "10. Récupérer les produits contenus dans le fichier produits.csv et recréer un dictionnaire utilisable par votre fonction achats(). Pour lire les lignes de fichier.csv dans des listes de chaînes de caractères, on rappelle qu’on doit faire : \n",
    "\n",
    "```python\n",
    "import csv \n",
    "fichier_source = open(\"fichier.csv\", 'r', newline='') \n",
    "lecteur = csv.reader(fichier_source) \n",
    "for (colonne1, colonne2, …) in lecteur : \n",
    "    traitement \n",
    "fichier_source.close() \n",
    "```"
   ]
  },
  {
   "cell_type": "code",
   "execution_count": null,
   "metadata": {},
   "outputs": [],
   "source": [
    "import csv\n",
    "\n",
    "produits_complet = dict()\n",
    "..."
   ]
  },
  {
   "cell_type": "markdown",
   "metadata": {},
   "source": [
    "11. Importez le module `nsithlon` dont la fonction `genere_panier` génère aléatoirement une liste d’identifiants RFID :\n",
    "\n",
    "```python\n",
    ">>> import nsithlon as nsi \n",
    ">>> nsi.genere_panier() \n",
    "[“0123452442”, “123450003”] \n",
    "```\n",
    "\n",
    "  Afficher 10 tickets générés aléatoirement à l’aide des fonctions ticket() et genere_panier()."
   ]
  },
  {
   "cell_type": "code",
   "execution_count": null,
   "metadata": {},
   "outputs": [],
   "source": [
    "..."
   ]
  }
 ],
 "metadata": {
  "kernelspec": {
   "display_name": "Python 3",
   "language": "python",
   "name": "python3"
  },
  "language_info": {
   "codemirror_mode": {
    "name": "ipython",
    "version": 3
   },
   "file_extension": ".py",
   "mimetype": "text/x-python",
   "name": "python",
   "nbconvert_exporter": "python",
   "pygments_lexer": "ipython3",
   "version": "3.8.3"
  }
 },
 "nbformat": 4,
 "nbformat_minor": 4
}
